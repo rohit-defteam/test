{
 "cells": [
  {
   "cell_type": "code",
   "execution_count": 2,
   "id": "2583b2b4",
   "metadata": {},
   "outputs": [],
   "source": [
    "import sys, math\n",
    "from pyspark import SparkContext, SparkConf\n",
    "sc =SparkContext()\n",
    "conf = SparkConf().setAppName(\"Map Numbers to their Log Values - Python\")"
   ]
  },
  {
   "cell_type": "code",
   "execution_count": 3,
   "id": "564a82f9",
   "metadata": {},
   "outputs": [],
   "source": [
    "numbers = sc.parallelize([14,21,88,99,455])"
   ]
  },
  {
   "cell_type": "code",
   "execution_count": 4,
   "id": "4cda3143",
   "metadata": {},
   "outputs": [
    {
     "name": "stdout",
     "output_type": "stream",
     "text": [
      "1.146128035678238\n",
      "1.3222192947339193\n",
      "1.9444826721501687\n",
      "1.99563519459755\n",
      "2.6580113966571126\n"
     ]
    }
   ],
   "source": [
    "log_values = numbers.map(lambda n : math.log10(n))\n",
    "llist = log_values.collect()\n",
    "for line in llist:\n",
    "    print(line)"
   ]
  },
  {
   "cell_type": "code",
   "execution_count": 5,
   "id": "f027256d",
   "metadata": {},
   "outputs": [
    {
     "name": "stdout",
     "output_type": "stream",
     "text": [
      "Number of elements present in RDD -> 5\n"
     ]
    }
   ],
   "source": [
    "counts = numbers.count()  \n",
    "print(\"Number of elements present in RDD -> %i\" % (counts))  "
   ]
  },
  {
   "cell_type": "code",
   "execution_count": 10,
   "id": "e3e46d1b",
   "metadata": {},
   "outputs": [
    {
     "name": "stdout",
     "output_type": "stream",
     "text": [
      "Adding all the elements in RDDs : 15\n"
     ]
    }
   ],
   "source": [
    "from operator import add\n",
    "add1 = sc.parallelize([1, 2, 3, 4, 5])  \n",
    "adding = add1.reduce(add)  \n",
    "print(\"Adding all the elements in RDDs : %i\" % (adding))  "
   ]
  },
  {
   "cell_type": "code",
   "execution_count": 11,
   "id": "7aefea8b",
   "metadata": {},
   "outputs": [
    {
     "name": "stdout",
     "output_type": "stream",
     "text": [
      "Join RDD -> [('pyspark', (1, 2)), ('hadoop', (3, 4))]\n"
     ]
    }
   ],
   "source": [
    "from pyspark import SparkContext  \n",
    "x = sc.parallelize([(\"pyspark\", 1), (\"hadoop\", 3)])  \n",
    "y = sc.parallelize([(\"pyspark\", 2), (\"hadoop\", 4)])  \n",
    "joined = x.join(y)  \n",
    "mapped = joined.collect()  \n",
    "print(\"Join RDD -> %s\" % (mapped))  "
   ]
  },
  {
   "cell_type": "code",
   "execution_count": null,
   "id": "1f48db44",
   "metadata": {},
   "outputs": [],
   "source": []
  }
 ],
 "metadata": {
  "kernelspec": {
   "display_name": "Python 3 (ipykernel)",
   "language": "python",
   "name": "python3"
  },
  "language_info": {
   "codemirror_mode": {
    "name": "ipython",
    "version": 3
   },
   "file_extension": ".py",
   "mimetype": "text/x-python",
   "name": "python",
   "nbconvert_exporter": "python",
   "pygments_lexer": "ipython3",
   "version": "3.10.6"
  }
 },
 "nbformat": 4,
 "nbformat_minor": 5
}
